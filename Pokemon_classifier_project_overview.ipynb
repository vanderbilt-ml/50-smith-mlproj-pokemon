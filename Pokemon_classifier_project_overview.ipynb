{
  "nbformat": 4,
  "nbformat_minor": 0,
  "metadata": {
    "colab": {
      "name": "Pokemon_classifier_project_overview.ipynb",
      "provenance": [],
      "authorship_tag": "ABX9TyNnbxM8Mordgl8st8fHxoyK",
      "include_colab_link": true
    },
    "kernelspec": {
      "name": "python3",
      "display_name": "Python 3"
    },
    "language_info": {
      "name": "python"
    }
  },
  "cells": [
    {
      "cell_type": "markdown",
      "metadata": {
        "id": "view-in-github",
        "colab_type": "text"
      },
      "source": [
        "<a href=\"https://colab.research.google.com/github/vanderbilt-ml/50-smith-mlproj-pokemon/blob/main/Pokemon_classifier_project_overview.ipynb\" target=\"_parent\"><img src=\"https://colab.research.google.com/assets/colab-badge.svg\" alt=\"Open In Colab\"/></a>"
      ]
    },
    {
      "cell_type": "markdown",
      "source": [
        "#Background\n",
        "I tend to spend quite a lot of time playing video games and as a result, I direct a lot of my personal projects towards them. I also spend a lot of time watching videos describing assistant tools for games that help speed up monotonous tasks or increase quality of life. I have attempted a few times to make some smaller tools, such as one that helps build an optimal path for collecting a set of items, and a Wordle solver using a SAT solver. For this project I wanted to try something a little bit less practical and more fun that I can use for Pokemon.\n",
        "\n",
        "#Project Description\n",
        "The goal of this project is to create an image recognition classification based application that can identify data values about pokemon based on features it identifies from their images. Pokemon has large amount of discrete data about each individual pokemon that can be easily quantified as metadata for training with their images. The initial goal for this project is for it to begin to recognize pokemon types based on their physical appearances. \n",
        "\n",
        "#Performance Metric\n",
        "For performance metrics, the primary focus is just on accuracy, with a goal of at least 50% accuracy. If I were to find a good single value to test classification against as positive or negative, a confusion matrix may be used as well."
      ],
      "metadata": {
        "id": "YzHvpt5KQ2v_"
      }
    }
  ]
}